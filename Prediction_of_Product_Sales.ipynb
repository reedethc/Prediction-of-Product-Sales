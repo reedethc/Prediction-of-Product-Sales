{
  "nbformat": 4,
  "nbformat_minor": 0,
  "metadata": {
    "colab": {
      "provenance": [],
      "authorship_tag": "ABX9TyN0Xnt6HsYo/JrVTIEct7rw",
      "include_colab_link": true
    },
    "kernelspec": {
      "name": "python3",
      "display_name": "Python 3"
    },
    "language_info": {
      "name": "python"
    }
  },
  "cells": [
    {
      "cell_type": "markdown",
      "metadata": {
        "id": "view-in-github",
        "colab_type": "text"
      },
      "source": [
        "<a href=\"https://colab.research.google.com/github/reedethc/Prediction-of-Product-Sales/blob/main/Prediction_of_Product_Sales.ipynb\" target=\"_parent\"><img src=\"https://colab.research.google.com/assets/colab-badge.svg\" alt=\"Open In Colab\"/></a>"
      ]
    },
    {
      "cell_type": "markdown",
      "source": [
        "#Project: Prediction of Product Sales\n",
        "- Author: Red Mataragkas\n",
        "---\n",
        "## \"Project Overview\"\n",
        "---\n",
        "## \"Load and Inspect Data\"\n",
        "---\n",
        "## \"Clean Data\"\n",
        "---\n",
        "## \"Exploratory Data Analysis\"\n",
        "---\n",
        "## \"Feature Inspection\""
      ],
      "metadata": {
        "id": "Zd_0tdixs9JC"
      }
    },
    {
      "cell_type": "code",
      "execution_count": null,
      "metadata": {
        "id": "1eNBuKrbpL56"
      },
      "outputs": [],
      "source": []
    }
  ]
}